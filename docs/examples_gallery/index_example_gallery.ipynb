{
 "cells": [
  {
   "attachments": {},
   "cell_type": "markdown",
   "metadata": {},
   "source": [
    "# Examples Gallery\n",
    "\n",
    "The examples below use opyrability's functions/capabilities extensively for different\n",
    "tasks, such as:\n",
    "\n",
    "- Obtaining operability sets\n",
    "- Inverse mapping of operability sets\n",
    "- Evaluation of the Operability Index (OI)\n",
    "- Ranking of competing design/control structures using the OI as a metric\n",
    "\n",
    "All functions are used simultaneously to achieve design and control assessment\n",
    "tasks in representative case studies."
   ]
  },
  {
   "attachments": {},
   "cell_type": "markdown",
   "metadata": {
    "tags": []
   },
   "source": [
    "### Case studies\n",
    "\n",
    "| [Operability analysis of the Shower Problem](operability_index_shower.ipynb) | [Operability analysis of a Direct Methane Aromatization Membrane Reactor](membrane_reactor.ipynb) |\n",
    "|:------------------------------------------:|-------------------------------------------------------------------------|\n",
    "|                   ![](shower_oi.gif)                  | ![](dma-mr.PNG)                                                                 |"
   ]
  },
  {
   "cell_type": "markdown",
   "metadata": {},
   "source": []
  },
  {
   "cell_type": "markdown",
   "metadata": {},
   "source": [
    "### Connectivity with Comercial and Open-source software\n",
    "\n",
    "Opyrability enables users to integrate their own models from various commercial and open-source platforms. The following examples demonstrate operability studies conducted with external software:\n",
    "\n",
    "- [Direct Air Capture example using AVEVA Process Simulation](asp_connection.ipynb)\n",
    "- [Sewage Sludge Gassification example using Aspen Plus](aspen_connection.ipynb)\n",
    "- [Air Separation Plant example using Unisim](unisim_connection.ipynb)\n",
    "- [Solid Oxide Electrolyzer Cell example using IDAES](idaes_connection.ipynb)\n"
   ]
  }
 ],
 "metadata": {
  "kernelspec": {
   "display_name": "operability",
   "language": "python",
   "name": "python3"
  },
  "language_info": {
   "name": "python",
   "version": "3.9.13"
  },
  "orig_nbformat": 4
 },
 "nbformat": 4,
 "nbformat_minor": 2
}
