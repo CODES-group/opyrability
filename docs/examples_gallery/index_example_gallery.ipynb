{
 "cells": [
  {
   "attachments": {},
   "cell_type": "markdown",
   "metadata": {},
   "source": [
    "# Examples Gallery\n",
    "\n",
    "The examples below use opyrability's functions/capabilities extensively for different\n",
    "tasks, such as:\n",
    "\n",
    "- Obtaining operability sets\n",
    "- Inverse mapping of operability sets\n",
    "- Evaluation of the Operability Index (OI)\n",
    "- Ranking of competing design/control structures using the OI as a metric\n",
    "\n",
    "All functions are used simultaneously to achieve design and control assessment\n",
    "tasks in representative case studies.\n",
    "\n",
    "Additionally, Opyrability enables users to integrate their own models from various commercial and open-source platforms. The following examples demonstrate operability studies conducted with external software:"
   ]
  },
  {
   "cell_type": "markdown",
   "metadata": {},
   "source": [
    "### Case studies\n",
    "\n"
   ]
  },
  {
   "cell_type": "markdown",
   "metadata": {},
   "source": [
    "|  |  |\n",
    "|--|--|\n",
    "| [Operability analysis of the Shower Problem](operability_index_shower.ipynb) | ![](../images/shower_oi.gif) |\n",
    "| [Operability analysis of a Direct Methane Aromatization Membrane Reactor](membrane_reactor.ipynb) | ![](../images/dma-mr.PNG) |\n",
    "| [Direct Air Capture example using AVEVA Process Simulation](aps_connection.ipynb) | ![](../images/m-DAC_ProcessPFD.png) |\n",
    "| [Sewage Sludge Gassification example using Aspen Plus](aspen_connection.ipynb) | ![](../images/aspen_flowsheet.png) |\n",
    "| [Air Separation Plant example using Unisim](unisim_connection.ipynb) | ![](../images/unisim_flowsheet.png) |\n",
    "| [Solid Oxide Electrolyzer Cell example using IDAES](idaes_connection.ipynb) | ![](../images/H_SOEC.png) |"
   ]
  }
 ],
 "metadata": {
  "kernelspec": {
   "display_name": "operability",
   "language": "python",
   "name": "python3"
  },
  "language_info": {
   "name": "python",
   "version": "3.9.13"
  },
  "orig_nbformat": 4
 },
 "nbformat": 4,
 "nbformat_minor": 2
}
